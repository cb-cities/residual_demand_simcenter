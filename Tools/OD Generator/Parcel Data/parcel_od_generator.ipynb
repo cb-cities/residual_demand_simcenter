{
 "cells": [
  {
   "cell_type": "code",
   "execution_count": 1,
   "metadata": {},
   "outputs": [],
   "source": [
    "import numpy as np \n",
    "import pandas as pd\n",
    "import geopandas as gpd\n",
    "import shapely\n",
    "from shapely.wkt import loads\n",
    "import shapely.vectorized as sv \n",
    "from scipy.spatial.distance import cdist "
   ]
  },
  {
   "cell_type": "code",
   "execution_count": 2,
   "metadata": {},
   "outputs": [],
   "source": [
    "# Load the nodes file of Alameda Island\n",
    "nodes_df = pd.read_csv('../network_inputs/alameda_nodes.csv')\n",
    "\n",
    "# Convert the nodes pandas dataframe into the geopandas dataframe\n",
    "nodes_gdf = gpd.GeoDataFrame(nodes_df, geometry=[shapely.geometry.Point(xy) for xy in zip(nodes_df.lon, nodes_df.lat)], crs='epsg:4326')"
   ]
  },
  {
   "cell_type": "markdown",
   "metadata": {},
   "source": [
    "# Find the node_id of the closest node to each parcel"
   ]
  },
  {
   "cell_type": "code",
   "execution_count": 3,
   "metadata": {},
   "outputs": [
    {
     "name": "stderr",
     "output_type": "stream",
     "text": [
      "/var/folders/p5/yl_qhkks45xd154yl6qd7th40000gn/T/ipykernel_15801/860906012.py:2: DtypeWarning: Columns (3,5,7,8,19) have mixed types. Specify dtype option on import or set low_memory=False.\n",
      "  alameda_parcels = pd.read_csv('Parcels.csv')\n"
     ]
    }
   ],
   "source": [
    "# Load the parcel data\n",
    "alameda_parcels = pd.read_csv('Parcels.csv')\n",
    "\n",
    "# Extract parcel data of the Alameda Island and fill up the missing values\n",
    "alameda_parcels = alameda_parcels[alameda_parcels['SitusZip'] == 94501] # The zip code of Alameda Island is 94501\n",
    "alameda_parcels = alameda_parcels.fillna(method = 'ffill') # Fill the missing values by forward propagation\n",
    "alameda_parcels['PARCEL'] = alameda_parcels['PARCEL'].astype(int)\n",
    "\n",
    "# In this example, all parcels are treated in the same manner.\n",
    "# However, the users can make more adjustments to the parcels data with the UseCode (https://propinfo.acgov.org/UseCodeList)\n",
    "\n",
    "# Covert the pandas dataframe to the geopandas dataframe\n",
    "household_parcels = alameda_parcels.copy()\n",
    "\n",
    "household_parcels = gpd.GeoDataFrame(household_parcels, crs='epsg:4326',\n",
    "                                     geometry=gpd.points_from_xy(household_parcels.xcoord, household_parcels.ycoord))\n",
    "household_parcels['centroid'] = household_parcels['geometry']\n",
    "household_parcels = household_parcels.set_geometry('centroid')\n",
    "\n",
    "household_parcels['c_x'] = household_parcels['xcoord']\n",
    "household_parcels['c_y'] = household_parcels['ycoord']\n",
    "\n",
    "# Function to get the closest node to each parcel\n",
    "def get_closest_node(parcel_x, parcel_y):\n",
    "    return nodes_id[cdist([(parcel_x, parcel_y)], nodes_xy).argmin()]\n",
    "\n",
    "# Find the closest node to each parcel\n",
    "nodes_xy = np.array([nodes_gdf['geometry'].x.values, nodes_gdf['geometry'].y.values]).transpose()\n",
    "nodes_id = nodes_gdf['node_id'].values\n",
    "\n",
    "household_parcels['closest_node'] = household_parcels.apply(lambda x: get_closest_node(x['c_x'], x['c_y']), axis=1)"
   ]
  },
  {
   "cell_type": "markdown",
   "metadata": {},
   "source": [
    "# Create the od pandas dataframe"
   ]
  },
  {
   "cell_type": "code",
   "execution_count": 4,
   "metadata": {},
   "outputs": [
    {
     "name": "stderr",
     "output_type": "stream",
     "text": [
      "/var/folders/p5/yl_qhkks45xd154yl6qd7th40000gn/T/ipykernel_15801/2994937350.py:4: FutureWarning: In a future version of pandas all arguments of DataFrame.drop except for the argument 'labels' will be keyword-only.\n",
      "  local_residents_od_df = local_residents_od_df.drop('closest_node', 1)\n"
     ]
    }
   ],
   "source": [
    "# Set the closest node as the origin\n",
    "local_residents_od_df = household_parcels[['PARCEL', 'closest_node']].copy().reset_index(drop=True)\n",
    "local_residents_od_df['origin_nid'] = local_residents_od_df['closest_node']\n",
    "local_residents_od_df = local_residents_od_df.drop('closest_node', 1)\n",
    "local_residents_od_df['departure_time'] = 0 # It is assumed that all local resident evacuate at the same time\n",
    "local_residents_od_df['type'] = 'local'"
   ]
  },
  {
   "cell_type": "code",
   "execution_count": 5,
   "metadata": {},
   "outputs": [],
   "source": [
    "# Input the evacuation node_id here (it is assumed that all residents evacuate to 1 evacuation point)\n",
    "# Set the evacuation node as the destination\n",
    "local_residents_od_df['destin_nid'] = '734'"
   ]
  },
  {
   "cell_type": "code",
   "execution_count": 6,
   "metadata": {},
   "outputs": [],
   "source": [
    "# Save the dataframe to csv file\n",
    "local_residents_od_df.to_csv('local_residents_od.csv')"
   ]
  }
 ],
 "metadata": {
  "kernelspec": {
   "display_name": "Python 3 (ipykernel)",
   "language": "python",
   "name": "python3"
  },
  "language_info": {
   "codemirror_mode": {
    "name": "ipython",
    "version": 3
   },
   "file_extension": ".py",
   "mimetype": "text/x-python",
   "name": "python",
   "nbconvert_exporter": "python",
   "pygments_lexer": "ipython3",
   "version": "3.9.18"
  }
 },
 "nbformat": 4,
 "nbformat_minor": 4
}
