{
 "cells": [
  {
   "cell_type": "code",
   "execution_count": 26,
   "metadata": {},
   "outputs": [],
   "source": [
    "import os\n",
    "import numpy as np \n",
    "import pandas as pd\n",
    "import geopandas as gpd\n",
    "import pandana as pdna\n",
    "import shapely\n",
    "from shapely.wkt import loads\n",
    "import shapely.vectorized as sv \n",
    "from scipy.spatial.distance import cdist "
   ]
  },
  {
   "cell_type": "code",
   "execution_count": 27,
   "metadata": {},
   "outputs": [],
   "source": [
    "abs_path = os.path.dirname(os.path.abspath(__name__))"
   ]
  },
  {
   "cell_type": "code",
   "execution_count": 28,
   "metadata": {},
   "outputs": [
    {
     "name": "stderr",
     "output_type": "stream",
     "text": [
      "/var/folders/p5/yl_qhkks45xd154yl6qd7th40000gn/T/ipykernel_18923/285596952.py:21: DtypeWarning: Columns (3,5,7,8,19) have mixed types. Specify dtype option on import or set low_memory=False.\n",
      "  parcels = pd.read_csv(parcel_data)\n"
     ]
    }
   ],
   "source": [
    "############# CHANGE HERE ############# \n",
    "### Input files and the interested area zip code\n",
    "network_nodes = abs_path + '/alameda_nodes.csv'\n",
    "network_edges = abs_path + '/alameda_links.csv'\n",
    "parcel_data = abs_path + '/Parcels.csv'\n",
    "zip_code = 94501 # The zip code of Alameda Island is 94501. The user can also use other methods to extract the parcel data of the interested areas\n",
    "evcuation_node = 734 # Node_id of the evacuation point (it is assumed that all residents evacuate to 1 evacuation point)\n",
    "\n",
    "############# NO CHANGE HERE #############\n",
    "# Nodes data processing\n",
    "# Load the nodes file and covert it to the geopandas dataframe\n",
    "# This example uses the road network in the Alameda Island with OSMnx\n",
    "nodes_df = pd.read_csv(network_nodes)\n",
    "nodes_gdf = gpd.GeoDataFrame(nodes_df, geometry=[shapely.geometry.Point(xy) for xy in zip(nodes_df.lon, nodes_df.lat)], crs='epsg:4326')\n",
    "# Load the edges file\n",
    "edges_df = pd.read_csv(network_edges)\n",
    "\n",
    "# Parcel data processing\n",
    "# Load the parcel data\n",
    "# This example uses the parcel data in the Alameda county (https://data.acgov.org/datasets/2b026350b5dd40b18ed7a321fdcdba81_0/explore)\n",
    "parcels = pd.read_csv(parcel_data)\n",
    "# Extract parcel data of the interested area and fill up the missing values if any\n",
    "parcels = parcels[parcels['SitusZip'] == zip_code]\n",
    "parcels = parcels.fillna(method = 'ffill') # Fill the missing values by forward propagation\n",
    "parcels['PARCEL'] = parcels['PARCEL'].astype(int)"
   ]
  },
  {
   "cell_type": "markdown",
   "metadata": {},
   "source": [
    "# Find the node_id of the closest node to each parcel"
   ]
  },
  {
   "cell_type": "code",
   "execution_count": 29,
   "metadata": {},
   "outputs": [],
   "source": [
    "# In this example, all parcels are treated uniformly, with the simple assumption that one car will be used for evacuation per parcel. \n",
    "# However, users can change the assumption using the UseCode (https://propinfo.acgov.org/UseCodeList) or other available information.\n",
    "\n",
    "# Covert the pandas dataframe to the geopandas dataframe\n",
    "household_parcels = parcels.copy()\n",
    "\n",
    "household_parcels = gpd.GeoDataFrame(household_parcels, crs='epsg:4326',\n",
    "                                     geometry=gpd.points_from_xy(household_parcels.xcoord, household_parcels.ycoord))\n",
    "household_parcels['centroid'] = household_parcels['geometry']\n",
    "household_parcels = household_parcels.set_geometry('centroid')\n",
    "\n",
    "household_parcels['c_x'] = household_parcels['xcoord']\n",
    "household_parcels['c_y'] = household_parcels['ycoord']\n",
    "\n",
    "# Function to get the closest node to each parcel\n",
    "def get_closest_node(parcel_x, parcel_y):\n",
    "    return nodes_id[cdist([(parcel_x, parcel_y)], nodes_xy).argmin()]\n",
    "\n",
    "# Find the closest node to each parcel\n",
    "nodes_xy = np.array([nodes_gdf['geometry'].x.values, nodes_gdf['geometry'].y.values]).transpose()\n",
    "nodes_id = nodes_gdf['node_id'].values\n",
    "\n",
    "household_parcels['closest_node'] = household_parcels.apply(lambda x: get_closest_node(x['c_x'], x['c_y']), axis=1)"
   ]
  },
  {
   "cell_type": "markdown",
   "metadata": {},
   "source": [
    "# Create the od pandas dataframe"
   ]
  },
  {
   "cell_type": "code",
   "execution_count": 30,
   "metadata": {},
   "outputs": [
    {
     "name": "stderr",
     "output_type": "stream",
     "text": [
      "/var/folders/p5/yl_qhkks45xd154yl6qd7th40000gn/T/ipykernel_18923/3445467427.py:9: FutureWarning: In a future version of pandas all arguments of DataFrame.drop except for the argument 'labels' will be keyword-only.\n",
      "  od_df = od_df.drop('PARCEL', 1)\n",
      "/var/folders/p5/yl_qhkks45xd154yl6qd7th40000gn/T/ipykernel_18923/3445467427.py:10: FutureWarning: In a future version of pandas all arguments of DataFrame.drop except for the argument 'labels' will be keyword-only.\n",
      "  od_df = od_df.drop('closest_node', 1)\n"
     ]
    }
   ],
   "source": [
    "# Create the od dataframe\n",
    "od_df = household_parcels[['PARCEL', 'closest_node']].copy().reset_index(drop=True)\n",
    "\n",
    "# Set the agent ids\n",
    "od_df['agent_id'] = range(len(od_df)) \n",
    "\n",
    "# Set the closest node as the origin\n",
    "od_df['origin_nid'] = od_df['closest_node']\n",
    "od_df = od_df.drop('PARCEL', 1)\n",
    "od_df = od_df.drop('closest_node', 1)\n",
    "\n",
    "# Set the evacuation node as the destination\n",
    "od_df['destin_nid'] = evcuation_node\n",
    "\n",
    "# Set the departure time (it is assumed that all local resident evacuate at the same time)\n",
    "od_df['hour'] = 0\n",
    "od_df['quarter'] = 0"
   ]
  },
  {
   "cell_type": "markdown",
   "metadata": {},
   "source": [
    "# Filter out the trips that do not have routes (Optional)"
   ]
  },
  {
   "cell_type": "code",
   "execution_count": 31,
   "metadata": {},
   "outputs": [
    {
     "name": "stdout",
     "output_type": "stream",
     "text": [
      "Generating contraction hierarchies with 10 threads.\n",
      "Setting CH node vector of size 2083\n",
      "Setting CH edge vector of size 5460\n",
      "Range graph removed 5010 edges of 10920\n",
      ". 10% . 20% . 30% . 40% . 50% . 60% . 70% . 80% . 90% . 100%\n",
      " 100% "
     ]
    }
   ],
   "source": [
    "# pandana network data pre-processing\n",
    "# Set node_id as the index\n",
    "nodes_df.index = nodes_df['node_id']\n",
    "\n",
    "# Convert the data types to the required data types\n",
    "nodes_df['lon'] = nodes_df['lon'].astype('float64')\n",
    "nodes_df['lat'] = nodes_df['lat'].astype('float64')\n",
    "edges_df['start_nid'] = edges_df['start_nid'].astype('int64')\n",
    "edges_df['end_nid'] = edges_df['end_nid'].astype('int64')\n",
    "edges_df['length'] = edges_df['length'].astype('float64')\n",
    "od_df['origin_nid'] = od_df['origin_nid'].astype('int64')\n",
    "od_df['destin_nid'] = od_df['origin_nid'].astype('int64')\n",
    "\n",
    "# Create a pandana network\n",
    "net = pdna.Network(nodes_df['lon'], nodes_df['lat'], edges_df['start_nid'], edges_df['end_nid'], edges_df[['length']], twoway=False)"
   ]
  },
  {
   "cell_type": "code",
   "execution_count": 32,
   "metadata": {},
   "outputs": [],
   "source": [
    "# Check if there is a trip between od for each agent\n",
    "od_df['has_path'] = 0\n",
    "for i in range(len(od_df)):\n",
    "    if len(net.shortest_path(od_df['origin_nid'].iloc[i], od_df['destin_nid'].iloc[i])) == 0:\n",
    "        od_df['has_path'].iloc[i] = 0\n",
    "    else:\n",
    "        od_df['has_path'].iloc[i] = 1"
   ]
  },
  {
   "cell_type": "code",
   "execution_count": 33,
   "metadata": {},
   "outputs": [],
   "source": [
    "# Filter out the trips that do not have routes between the origin and destination\n",
    "od_df = od_df[od_df['has_path'] == 1]\n",
    "\n",
    "# Clean up the dataframe\n",
    "od_df = od_df[['agent_id', 'origin_nid', 'destin_nid', 'hour', 'quarter']]"
   ]
  },
  {
   "cell_type": "code",
   "execution_count": null,
   "metadata": {},
   "outputs": [],
   "source": []
  },
  {
   "cell_type": "code",
   "execution_count": 34,
   "metadata": {},
   "outputs": [],
   "source": [
    "# Save the dataframe to csv file\n",
    "od_df.to_csv('od.csv', index=False)"
   ]
  }
 ],
 "metadata": {
  "kernelspec": {
   "display_name": "Python 3 (ipykernel)",
   "language": "python",
   "name": "python3"
  },
  "language_info": {
   "codemirror_mode": {
    "name": "ipython",
    "version": 3
   },
   "file_extension": ".py",
   "mimetype": "text/x-python",
   "name": "python",
   "nbconvert_exporter": "python",
   "pygments_lexer": "ipython3",
   "version": "3.9.18"
  }
 },
 "nbformat": 4,
 "nbformat_minor": 4
}
