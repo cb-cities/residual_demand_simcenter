{
 "cells": [
  {
   "cell_type": "code",
   "execution_count": 44,
   "metadata": {},
   "outputs": [],
   "source": [
    "import requests\n",
    "import pandas as pd\n",
    "from requests.adapters import HTTPAdapter\n",
    "from urllib3.util.retry import Retry\n",
    "from shapely import wkt\n",
    "from shapely.geometry import Polygon"
   ]
  },
  {
   "cell_type": "code",
   "execution_count": 45,
   "metadata": {},
   "outputs": [],
   "source": [
    "# Function to extract geometry information from json and save it in Pandas DataFrame\n",
    "def json_to_dataframe(json_data):\n",
    "    # Extract the features from the JSON data\n",
    "    features = json_data['features']\n",
    "    \n",
    "    # Extract the geometry information\n",
    "    data = [feature['geometry'] for feature in features]\n",
    "    \n",
    "    # Create a DataFrame from the data\n",
    "    df = pd.DataFrame(data)\n",
    "    \n",
    "    # Extract the polygon from the data\n",
    "    df['geometry'] = df.iloc[:, 0].apply(lambda x: x[0])\n",
    "    \n",
    "    return df"
   ]
  },
  {
   "cell_type": "code",
   "execution_count": 46,
   "metadata": {},
   "outputs": [],
   "source": [
    "# Function to calculate the centroid of polygons\n",
    "def get_centroid(coords):\n",
    "    polygon = Polygon(coords)\n",
    "    return polygon.centroid"
   ]
  },
  {
   "cell_type": "code",
   "execution_count": 47,
   "metadata": {},
   "outputs": [],
   "source": [
    "# Function to get the geometry information of the parcel data from ArcGIS service\n",
    "def get_parcel_data(state, bpoly):\n",
    "    # Get the URL of the state parcel data\n",
    "    df = pd.read_csv('us_states_parcel_data.csv') # We might want to change the directory to the spreadsheet\n",
    "    url = df.loc[df['State'] == state, 'URL'].values[0]\n",
    "    \n",
    "    # Get the coordinates of the bounding box for input polygon bpoly\n",
    "    bbox = bpoly.bounds\n",
    "    \n",
    "    # Construct the query URL to get the parcel data within the bounding box\n",
    "    query = (url + '/0/query?' +\n",
    "             f'geometry={bbox[0]},{bbox[1]},{bbox[2]},{bbox[3]}' +\n",
    "             '&geometryType=esriGeometryEnvelope&inSR=4326' + \n",
    "             '&spatialRel=esriSpatialRelIntersects' +\n",
    "             '&outFields=*' +\n",
    "             '&returnGeometry=true&f=json')\n",
    "    \n",
    "    # Set up a session with retries\n",
    "    s = requests.Session()\n",
    "    retries = Retry(total=5, \n",
    "                    backoff_factor=0.1,\n",
    "                    status_forcelist=[500, 502, 503, 504])\n",
    "    s.mount('https://', HTTPAdapter(max_retries=retries))\n",
    "\n",
    "    # Send the request and get the response\n",
    "    r = s.get(query)\n",
    "    \n",
    "    # Get the parcel data in JSON format\n",
    "    parcel_data = r.json()\n",
    "    \n",
    "    # Extract the geometry information from the JSON file and store in the csv format\n",
    "    df = json_to_dataframe(parcel_data)\n",
    "\n",
    "    # Calculate the centroid for each parcel\n",
    "    df['centroid'] = df['geometry'].apply(lambda x: get_centroid(x))\n",
    "\n",
    "    # Extract x (longitude) and y (latitude) coordinates\n",
    "    df['xcoord'] = df['centroid'].apply(lambda point: point.x)\n",
    "    df['ycoord'] = df['centroid'].apply(lambda point: point.y)\n",
    "    \n",
    "    return df"
   ]
  },
  {
   "cell_type": "markdown",
   "metadata": {},
   "source": [
    "# Alameda Island Example"
   ]
  },
  {
   "cell_type": "code",
   "execution_count": 49,
   "metadata": {},
   "outputs": [
    {
     "data": {
      "text/html": [
       "<div>\n",
       "<style scoped>\n",
       "    .dataframe tbody tr th:only-of-type {\n",
       "        vertical-align: middle;\n",
       "    }\n",
       "\n",
       "    .dataframe tbody tr th {\n",
       "        vertical-align: top;\n",
       "    }\n",
       "\n",
       "    .dataframe thead th {\n",
       "        text-align: right;\n",
       "    }\n",
       "</style>\n",
       "<table border=\"1\" class=\"dataframe\">\n",
       "  <thead>\n",
       "    <tr style=\"text-align: right;\">\n",
       "      <th></th>\n",
       "      <th>rings</th>\n",
       "      <th>geometry</th>\n",
       "      <th>centroid</th>\n",
       "      <th>xcoord</th>\n",
       "      <th>ycoord</th>\n",
       "    </tr>\n",
       "  </thead>\n",
       "  <tbody>\n",
       "    <tr>\n",
       "      <th>0</th>\n",
       "      <td>[[[-122.253860704, 37.7448346140001], [-122.25...</td>\n",
       "      <td>[[-122.253860704, 37.7448346140001], [-122.253...</td>\n",
       "      <td>POINT (-122.25372373679335 37.74491824741586)</td>\n",
       "      <td>-122.253724</td>\n",
       "      <td>37.744918</td>\n",
       "    </tr>\n",
       "    <tr>\n",
       "      <th>1</th>\n",
       "      <td>[[[-122.254360611, 37.7422976560001], [-122.25...</td>\n",
       "      <td>[[-122.254360611, 37.7422976560001], [-122.254...</td>\n",
       "      <td>POINT (-122.25434766088618 37.742450380181104)</td>\n",
       "      <td>-122.254348</td>\n",
       "      <td>37.742450</td>\n",
       "    </tr>\n",
       "    <tr>\n",
       "      <th>2</th>\n",
       "      <td>[[[-122.259890339, 37.7427485740001], [-122.26...</td>\n",
       "      <td>[[-122.259890339, 37.7427485740001], [-122.260...</td>\n",
       "      <td>POINT (-122.25993242428014 37.74290950109544)</td>\n",
       "      <td>-122.259932</td>\n",
       "      <td>37.742910</td>\n",
       "    </tr>\n",
       "    <tr>\n",
       "      <th>3</th>\n",
       "      <td>[[[-122.246943335, 37.741273151], [-122.247113...</td>\n",
       "      <td>[[-122.246943335, 37.741273151], [-122.2471134...</td>\n",
       "      <td>POINT (-122.24706183558392 37.741359644284636)</td>\n",
       "      <td>-122.247062</td>\n",
       "      <td>37.741360</td>\n",
       "    </tr>\n",
       "    <tr>\n",
       "      <th>4</th>\n",
       "      <td>[[[-122.241465615, 37.7466822150001], [-122.24...</td>\n",
       "      <td>[[-122.241465615, 37.7466822150001], [-122.241...</td>\n",
       "      <td>POINT (-122.24133563024462 37.746767918888935)</td>\n",
       "      <td>-122.241336</td>\n",
       "      <td>37.746768</td>\n",
       "    </tr>\n",
       "  </tbody>\n",
       "</table>\n",
       "</div>"
      ],
      "text/plain": [
       "                                               rings  \\\n",
       "0  [[[-122.253860704, 37.7448346140001], [-122.25...   \n",
       "1  [[[-122.254360611, 37.7422976560001], [-122.25...   \n",
       "2  [[[-122.259890339, 37.7427485740001], [-122.26...   \n",
       "3  [[[-122.246943335, 37.741273151], [-122.247113...   \n",
       "4  [[[-122.241465615, 37.7466822150001], [-122.24...   \n",
       "\n",
       "                                            geometry  \\\n",
       "0  [[-122.253860704, 37.7448346140001], [-122.253...   \n",
       "1  [[-122.254360611, 37.7422976560001], [-122.254...   \n",
       "2  [[-122.259890339, 37.7427485740001], [-122.260...   \n",
       "3  [[-122.246943335, 37.741273151], [-122.2471134...   \n",
       "4  [[-122.241465615, 37.7466822150001], [-122.241...   \n",
       "\n",
       "                                         centroid      xcoord     ycoord  \n",
       "0   POINT (-122.25372373679335 37.74491824741586) -122.253724  37.744918  \n",
       "1  POINT (-122.25434766088618 37.742450380181104) -122.254348  37.742450  \n",
       "2   POINT (-122.25993242428014 37.74290950109544) -122.259932  37.742910  \n",
       "3  POINT (-122.24706183558392 37.741359644284636) -122.247062  37.741360  \n",
       "4  POINT (-122.24133563024462 37.746767918888935) -122.241336  37.746768  "
      ]
     },
     "execution_count": 49,
     "metadata": {},
     "output_type": "execute_result"
    }
   ],
   "source": [
    "### CHANGE HERE (Alameda Island Example)\n",
    "from shapely.geometry import box, shape\n",
    "# Define the bounding box for Alameda Island\n",
    "bbox = box(-122.3164, 37.7393, -122.2307, 37.7957)\n",
    "\n",
    "# Get the parcel data for Alameda Island in JSON format\n",
    "parcel_data = get_parcel_data('California', bbox)\n",
    "\n",
    "parcel_data.head()"
   ]
  },
  {
   "cell_type": "code",
   "execution_count": null,
   "metadata": {},
   "outputs": [],
   "source": [
    "parcel_data.to_csv('parcel.csv')"
   ]
  },
  {
   "cell_type": "code",
   "execution_count": null,
   "metadata": {},
   "outputs": [],
   "source": []
  }
 ],
 "metadata": {
  "kernelspec": {
   "display_name": "Python 3",
   "language": "python",
   "name": "python3"
  },
  "language_info": {
   "codemirror_mode": {
    "name": "ipython",
    "version": 3
   },
   "file_extension": ".py",
   "mimetype": "text/x-python",
   "name": "python",
   "nbconvert_exporter": "python",
   "pygments_lexer": "ipython3",
   "version": "3.9.18"
  },
  "orig_nbformat": 4
 },
 "nbformat": 4,
 "nbformat_minor": 2
}
