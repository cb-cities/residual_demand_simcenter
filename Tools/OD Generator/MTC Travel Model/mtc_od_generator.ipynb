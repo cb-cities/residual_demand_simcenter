{
 "cells": [
  {
   "cell_type": "code",
   "execution_count": 7,
   "metadata": {},
   "outputs": [],
   "source": [
    "import geopandas as gpd\n",
    "import pandas as pd\n",
    "from shapely.geometry import Point\n",
    "import random\n",
    "import numpy as np\n",
    "import pandana as pdna"
   ]
  },
  {
   "cell_type": "code",
   "execution_count": 8,
   "metadata": {},
   "outputs": [],
   "source": [
    "# Import input data\n",
    "\n",
    "# Import the Travel Analysis Zones (TAZ1454) Feature Layer by MTC/ABAG (https://opendata.mtc.ca.gov/datasets/b85ba4d43f9843128d3542260d9a2f1f_0/about)\n",
    "taz_gdf = gpd.read_file('Travel_Analysis_Zones_(TAZ1454)/Travel Analysis Zones.shp')\n",
    "\n",
    "# Import the road network in the East Bay\n",
    "nodes_df = pd.read_csv('nodes.csv')\n",
    "edges_df = pd.read_csv('edges.csv')"
   ]
  },
  {
   "cell_type": "markdown",
   "metadata": {},
   "source": [
    "# Assign ODs to highway nodes in the corresponding TAZ based on the MTC travel data"
   ]
  },
  {
   "cell_type": "code",
   "execution_count": 9,
   "metadata": {},
   "outputs": [],
   "source": [
    "# Set the CRS of the TAZ file\n",
    "taz_gdf = taz_gdf.to_crs(\"EPSG:4326\")"
   ]
  },
  {
   "cell_type": "code",
   "execution_count": 10,
   "metadata": {},
   "outputs": [],
   "source": [
    "# Convert the CSV dataframe to the GeoDataFrame\n",
    "geometry = [Point(xy) for xy in zip(nodes_df['lon'], nodes_df['lat'])]\n",
    "nodes_gdf = gpd.GeoDataFrame(nodes_df, geometry=geometry, crs = 4326)"
   ]
  },
  {
   "cell_type": "code",
   "execution_count": 11,
   "metadata": {},
   "outputs": [],
   "source": [
    "# Find the highway nodes in each TAZ\n",
    "contained = {}\n",
    "\n",
    "for index, area in taz_gdf.iterrows():\n",
    "    mask = nodes_gdf.within(area['geometry'])\n",
    "    contained[area['TAZ1454']] = nodes_gdf[mask]['node_id'].tolist()"
   ]
  },
  {
   "cell_type": "code",
   "execution_count": 12,
   "metadata": {},
   "outputs": [],
   "source": [
    "# Load the MTC/ABAG travel model data (http://data.mtc.ca.gov/data-repository/)\n",
    "# The one used in this example is from the model run 2015_06_002 (https://mtcdrive.app.box.com/v/pba2040-2015-06-002)\n",
    "trip = pd.read_csv('indivTripData_3.csv')"
   ]
  },
  {
   "cell_type": "code",
   "execution_count": 13,
   "metadata": {},
   "outputs": [],
   "source": [
    "# Filter out the trips happening between 6 AM to 9 AM (morning rush hours)\n",
    "trips = trip[trip['depart_hour'].isin([6, 7, 8])]\n",
    "\n",
    "# Filter the rows of the dataframe based on whether the origins or destinations in contained are not empty\n",
    "non_empty_keys = [k for k, v in contained.items() if v]\n",
    "trips = trips[trips['orig_taz'].isin(non_empty_keys)]\n",
    "trips = trips[trips['dest_taz'].isin(non_empty_keys)]"
   ]
  },
  {
   "cell_type": "code",
   "execution_count": 15,
   "metadata": {},
   "outputs": [],
   "source": [
    "# Clean up the dataframe\n",
    "trips = trips.reset_index()\n",
    "trips['agent_id'] = trips.index\n",
    "trips['origin_nid'] = 0\n",
    "trips['destin_nid'] = 0\n",
    "trips = trips[['agent_id', 'orig_taz', 'dest_taz', 'origin_nid', 'destin_nid', 'depart_hour']]"
   ]
  },
  {
   "cell_type": "code",
   "execution_count": 17,
   "metadata": {},
   "outputs": [],
   "source": [
    "# Randomly assign ODs to highway nodes in the corresponding taz\n",
    "for i in range(len(trips)):\n",
    "    trips['origin_nid'][i] = random.choice(contained[trips['orig_taz'][i]])\n",
    "    trips['destin_nid'][i] = random.choice(contained[trips['dest_taz'][i]])"
   ]
  },
  {
   "cell_type": "code",
   "execution_count": 18,
   "metadata": {},
   "outputs": [],
   "source": [
    "# Filter out the trips with same the origin and destination\n",
    "trips = trips[trips['origin_nid'] != trips['destin_nid']]\n",
    "\n",
    "# Convert the format to od data\n",
    "mtc_traffic = trips[['agent_id', 'origin_nid', 'destin_nid', 'depart_hour']]\n",
    "mtc_traffic = mtc_traffic.rename(columns={'depart_hour': 'hour'})\n",
    "\n",
    "# Assign random depart quarter\n",
    "mtc_traffic['quarter'] = np.random.randint(0, 6, size=len(mtc_traffic))"
   ]
  },
  {
   "cell_type": "code",
   "execution_count": 19,
   "metadata": {},
   "outputs": [],
   "source": [
    "mtc_traffic = mtc_traffic.dropna()"
   ]
  },
  {
   "cell_type": "markdown",
   "metadata": {},
   "source": [
    "# Filter out the trips that cannot have routes"
   ]
  },
  {
   "cell_type": "code",
   "execution_count": 20,
   "metadata": {},
   "outputs": [],
   "source": [
    "# Set node_id as the index\n",
    "nodes_df.index = nodes_df['node_id']\n",
    "\n",
    "# Convert the data types to the required data types\n",
    "# nodes_df['lon'] = nodes_df['lon'].astype('float64')\n",
    "# nodes_df['lat'] = nodes_df['lat'].astype('float64')\n",
    "edges_df['start_nid'] = edges_df['start_nid'].astype('int64')\n",
    "edges_df['end_nid'] = edges_df['end_nid'].astype('int64')\n",
    "edges_df['length'] = edges_df['length'].astype('float64')"
   ]
  },
  {
   "cell_type": "code",
   "execution_count": 21,
   "metadata": {},
   "outputs": [
    {
     "name": "stdout",
     "output_type": "stream",
     "text": [
      "Generating contraction hierarchies with 10 threads.\n",
      "Setting CH node vector of size 93529\n",
      "Setting CH edge vector of size 222406\n",
      "Range graph removed 198802 edges of 444812\n",
      ". 10% . 20% . 30% . 40% . 50% . 60% . 70% . 80% . 90% . 100%\n"
     ]
    }
   ],
   "source": [
    "# Create a pandana network\n",
    "net = pdna.Network(nodes_df['lon'], nodes_df['lat'], edges_df['start_nid'], edges_df['end_nid'], edges_df[['length']], twoway=False)"
   ]
  },
  {
   "cell_type": "code",
   "execution_count": 22,
   "metadata": {},
   "outputs": [],
   "source": [
    "# Check if there is a trip between od for each agent\n",
    "mtc_traffic['has_path'] = 0\n",
    "for i in range(len(mtc_traffic)):\n",
    "    if len(net.shortest_path(mtc_traffic['origin_nid'].iloc[i], mtc_traffic['destin_nid'].iloc[i])) == 0:\n",
    "        mtc_traffic['has_path'].iloc[i] = 0\n",
    "    else:\n",
    "        mtc_traffic['has_path'].iloc[i] = 1"
   ]
  },
  {
   "cell_type": "code",
   "execution_count": 23,
   "metadata": {},
   "outputs": [],
   "source": [
    "# Filter out the trips that do not have routes between the origin and destination\n",
    "mtc_traffic = mtc_traffic[mtc_traffic['has_path'] == 1]\n",
    "\n",
    "# Clean up the dataframe\n",
    "mtc_traffic = mtc_traffic[['agent_id', 'origin_nid', 'destin_nid', 'hour', 'quarter']]"
   ]
  },
  {
   "cell_type": "code",
   "execution_count": 24,
   "metadata": {},
   "outputs": [],
   "source": [
    "# Save the dataframe to csv file\n",
    "mtc_traffic.to_csv('od.csv')"
   ]
  },
  {
   "cell_type": "code",
   "execution_count": null,
   "metadata": {},
   "outputs": [],
   "source": []
  }
 ],
 "metadata": {
  "kernelspec": {
   "display_name": "cities",
   "language": "python",
   "name": "python3"
  },
  "language_info": {
   "codemirror_mode": {
    "name": "ipython",
    "version": 3
   },
   "file_extension": ".py",
   "mimetype": "text/x-python",
   "name": "python",
   "nbconvert_exporter": "python",
   "pygments_lexer": "ipython3",
   "version": "3.9.18"
  },
  "orig_nbformat": 4
 },
 "nbformat": 4,
 "nbformat_minor": 2
}
