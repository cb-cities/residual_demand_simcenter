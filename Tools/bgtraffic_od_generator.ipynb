{
 "cells": [
  {
   "cell_type": "code",
   "execution_count": null,
   "metadata": {},
   "outputs": [],
   "source": [
    "import geopandas as gpd\n",
    "import pandas as pd\n",
    "from shapely.geometry import Point\n",
    "import random\n",
    "import numpy as np\n",
    "import pandana as pdna"
   ]
  },
  {
   "cell_type": "code",
   "execution_count": null,
   "metadata": {},
   "outputs": [],
   "source": [
    "# Import input data\n",
    "\n",
    "# Import the Travel Analysis Zones (TAZ1454) Feature Layer by MTC/ABAG (https://opendata.mtc.ca.gov/datasets/b85ba4d43f9843128d3542260d9a2f1f_0/about)\n",
    "taz_gdf = gpd.read_file('Travel_Analysis_Zones_(TAZ1454)/Travel Analysis Zones.shp')\n",
    "\n",
    "# Import the highway road network\n",
    "nodes_df = pd.read_csv('highway_nodes.csv')\n",
    "edges_df = pd.read_csv('highway_edges.csv')"
   ]
  },
  {
   "cell_type": "markdown",
   "metadata": {},
   "source": [
    "# Assign ODs to highway nodes in the corresponding TAZ based on the MTC travel data"
   ]
  },
  {
   "cell_type": "code",
   "execution_count": null,
   "metadata": {},
   "outputs": [],
   "source": [
    "# Set the crs of the TAZ\n",
    "taz_gdf = taz_gdf.to_crs(\"EPSG:4326\")"
   ]
  },
  {
   "cell_type": "code",
   "execution_count": null,
   "metadata": {},
   "outputs": [],
   "source": [
    "# Convert the CSV dataframe to the GeoDataFrame\n",
    "geometry = [Point(xy) for xy in zip(nodes_df['lon'], nodes_df['lat'])]\n",
    "nodes_gdf = gpd.GeoDataFrame(nodes_df, geometry=geometry, crs = 4326)"
   ]
  },
  {
   "cell_type": "code",
   "execution_count": null,
   "metadata": {},
   "outputs": [],
   "source": [
    "# Find the highway nodes in each TAZ\n",
    "contained = {}\n",
    "\n",
    "for index, area in taz_gdf.iterrows():\n",
    "    mask = nodes_gdf.within(area['geometry'])\n",
    "    contained[area['TAZ1454']] = nodes_gdf[mask]['node_id'].tolist()"
   ]
  },
  {
   "cell_type": "code",
   "execution_count": null,
   "metadata": {},
   "outputs": [],
   "source": [
    "# Load the MTC/ABAG travel model data (http://data.mtc.ca.gov/data-repository/)\n",
    "# The one used in this example is from the model run 2015_06_002 (https://mtcdrive.app.box.com/v/pba2040-2015-06-002)\n",
    "trip = pd.read_csv('indivTripData_3.csv')"
   ]
  },
  {
   "cell_type": "code",
   "execution_count": null,
   "metadata": {},
   "outputs": [],
   "source": [
    "# Filter out the trips happening between 7 AM to 9 AM\n",
    "trips = trip[trip['depart_hour'].isin([7, 8])]\n",
    "\n",
    "# Filter the rows of the dataframe based on whether the origins or destinations in contained are not empty\n",
    "non_empty_keys = [k for k, v in contained.items() if v]\n",
    "trips = trips[trips['orig_taz'].isin(non_empty_keys)]\n",
    "trips = trips[trips['dest_taz'].isin(non_empty_keys)]\n",
    "\n",
    "# Clean up the dataframe\n",
    "trips = trips.reset_index()\n",
    "trips['agent_id'] = -1\n",
    "trips['origin_nid'] = 0\n",
    "trips['destin_nid'] = 0\n",
    "trips = trips[['agent_id', 'orig_taz', 'dest_taz', 'origin_nid', 'destin_nid', 'depart_hour']]"
   ]
  },
  {
   "cell_type": "code",
   "execution_count": null,
   "metadata": {},
   "outputs": [],
   "source": [
    "# Randomly assign ODs to highway nodes in the corresponding taz\n",
    "for i in range(len(trips)):\n",
    "    trips['origin_nid'][i] = random.choice(contained[trips['orig_taz'][i]])\n",
    "    trips['destin_nid'][i] = random.choice(contained[trips['dest_taz'][i]])"
   ]
  },
  {
   "cell_type": "code",
   "execution_count": null,
   "metadata": {},
   "outputs": [],
   "source": [
    "# Filter out the trips with same the origin and destination\n",
    "trips = trips[trips['origin_nid'] != trips['destin_nid']]\n",
    "\n",
    "# Convert the format to od data\n",
    "bg_traffic = trips[['agent_id', 'origin_nid', 'destin_nid', 'depart_hour']]\n",
    "bg_traffic = bg_traffic.rename(columns={'depart_hour': 'hour'})\n",
    "\n",
    "# Assign random depart quarter\n",
    "bg_traffic['quarter'] = np.random.randint(0, 6, size=len(bg_traffic))"
   ]
  },
  {
   "cell_type": "markdown",
   "metadata": {},
   "source": [
    "# Filter out the trips that cannot have routes with pandana"
   ]
  },
  {
   "cell_type": "code",
   "execution_count": null,
   "metadata": {},
   "outputs": [],
   "source": [
    "# Set node_id as the index\n",
    "nodes_df.index = nodes_df['node_id']\n",
    "\n",
    "# Convert the data types to the required data types\n",
    "edges_df['start_nid'] = edges_df['start_nid'].astype('int64')\n",
    "edges_df['end_nid'] = edges_df['end_nid'].astype('int64')\n",
    "edges_df['length'] = edges_df['length'].astype('float64')"
   ]
  },
  {
   "cell_type": "code",
   "execution_count": null,
   "metadata": {},
   "outputs": [],
   "source": [
    "# Create a pandana network\n",
    "net = pdna.Network(nodes_df['lon'], nodes_df['lat'], edges_df['start_nid'], edges_df['end_nid'], edges_df[['length']], twoway=False)"
   ]
  },
  {
   "cell_type": "code",
   "execution_count": null,
   "metadata": {},
   "outputs": [],
   "source": [
    "# Check if there is a trip between od for each agent\n",
    "bg_traffic['has_path'] = 0\n",
    "for i in range(len(bg_traffic)):\n",
    "    if len(net.shortest_path(bg_traffic['origin_nid'].iloc[i], bg_traffic['destin_nid'].iloc[i])) == 0:\n",
    "        bg_traffic['has_path'].iloc[i] = 0\n",
    "    else:\n",
    "        bg_traffic['has_path'].iloc[i] = 1"
   ]
  },
  {
   "cell_type": "code",
   "execution_count": null,
   "metadata": {},
   "outputs": [],
   "source": [
    "# Filter out the trips that do not have routes between the origin and destination\n",
    "bg_traffic = bg_traffic[bg_traffic['has_path'] == 1]\n",
    "\n",
    "# Clean up the dataframe\n",
    "bg_traffic = bg_traffic[['agent_id', 'origin_nid', 'destin_nid', 'hour', 'quarter']]"
   ]
  },
  {
   "cell_type": "code",
   "execution_count": null,
   "metadata": {},
   "outputs": [],
   "source": [
    "# Save the dataframe to csv file\n",
    "bg_traffic.to_csv('backgroundtraffic_od.csv')"
   ]
  },
  {
   "cell_type": "code",
   "execution_count": null,
   "metadata": {},
   "outputs": [],
   "source": []
  }
 ],
 "metadata": {
  "kernelspec": {
   "display_name": "cities",
   "language": "python",
   "name": "python3"
  },
  "language_info": {
   "codemirror_mode": {
    "name": "ipython",
    "version": 3
   },
   "file_extension": ".py",
   "mimetype": "text/x-python",
   "name": "python",
   "nbconvert_exporter": "python",
   "pygments_lexer": "ipython3",
   "version": "3.9.18"
  },
  "orig_nbformat": 4
 },
 "nbformat": 4,
 "nbformat_minor": 2
}
