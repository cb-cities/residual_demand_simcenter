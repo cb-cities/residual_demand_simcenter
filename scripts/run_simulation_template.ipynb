{
 "cells": [
  {
   "cell_type": "code",
   "execution_count": null,
   "id": "7a219605-3dd8-4154-94f3-f96b5ed48569",
   "metadata": {},
   "outputs": [],
   "source": [
    "import os\n",
    "import sys \n",
    "import time \n",
    "import logging\n",
    "import numpy as np\n",
    "import pandas as pd \n",
    "import geopandas as gpd\n",
    "from shapely.wkt import loads\n",
    "from residual_demand_assignment import assignment"
   ]
  },
  {
   "cell_type": "code",
   "execution_count": null,
   "id": "fcded4b5-fc53-4f39-959b-f4133d68f660",
   "metadata": {},
   "outputs": [],
   "source": [
    "abs_path = os.path.dirname(os.path.abspath(__name__))"
   ]
  },
  {
   "cell_type": "code",
   "execution_count": null,
   "id": "0f00091e-5e7f-4d86-8cf3-93708c63cb18",
   "metadata": {},
   "outputs": [],
   "source": [
    "def main(hour_list=None, quarter_list=None, closure_hours=None):\n",
    "\n",
    "\n",
    "    ############# CHANGE HERE ############# \n",
    "    ### scenario name and input files\n",
    "    scen_nm = 'scen_nm'\n",
    "\n",
    "    ### input files\n",
    "    network_edges = abs_path + '/../projects/test/network_inputs/edges.csv'\n",
    "    network_nodes = abs_path + '/../projects/test/network_inputs/nodes.csv'\n",
    "    closed_edges_file = abs_path + '/../projects/test/network_inputs/closed_edges.csv'\n",
    "    demand_file = abs_path + '/../projects/test/demand_inputs/od.csv'\n",
    "    simulation_outputs = abs_path + '/../projects/test/simulation_outputs'\n",
    " \n",
    "    ############# NO CHANGE HERE ############# \n",
    "    ### network processing\n",
    "    edges_df = pd.read_csv(network_edges)\n",
    "    edges_df = edges_df[[\"uniqueid\", \"geometry\", \"osmid\", \"length\", \"type\", \"lanes\", \"maxspeed\", \"capacity\", \"start_nid\", \"end_nid\"]]\n",
    "    edges_df = gpd.GeoDataFrame(edges_df, crs='epsg:4326', geometry=edges_df['geometry'].map(loads))\n",
    "    edges_df = edges_df.sort_values(by='fft', ascending=False).drop_duplicates(subset=['start_nid', 'end_nid'], keep='first')\n",
    "    ### pay attention to the unit conversion\n",
    "    edges_df['fft'] = edges_df['length']/edges_df['maxspeed']*2.23694\n",
    "    edges_df['edge_str'] = edges_df['start_nid'].astype('str') + '-' + edges_df['end_nid'].astype('str')\n",
    "    edges_df['capacity'] = np.where(edges_df['capacity']<1, 950, edges_df['capacity'])\n",
    "    edges_df['normal_capacity'] = edges_df['capacity']\n",
    "    edges_df['normal_fft'] = edges_df['fft']\n",
    "    edges_df['t_avg'] = edges_df['fft']\n",
    "    edges_df['u'] = edges_df['start_nid']\n",
    "    edges_df['v'] = edges_df['end_nid']\n",
    "    edges_df = edges_df.set_index('edge_str')\n",
    "    ### closure locations\n",
    "    closed_links = pd.read_csv(closed_edges_file)\n",
    "    for row in closed_links.itertuples():\n",
    "        edges_df.loc[(edges_df['uniqueid']==getattr(row, 'uniqueid')), 'capacity'] = 1\n",
    "        edges_df.loc[(edges_df['uniqueid']==getattr(row, 'uniqueid')), 'fft'] = 36000\n",
    "    ### output closed file for visualization\n",
    "    edges_df.loc[edges_df['fft'] == 36000, ['uniqueid', 'start_nid', 'end_nid', 'capacity', 'fft', 'geometry']].to_csv(simulation_outputs + '/closed_links_{}.csv'.format(scen_nm))\n",
    "\n",
    "    ### nodes processing\n",
    "    nodes_df = pd.read_csv(network_nodes)\n",
    "\n",
    "    nodes_df['x'] = nodes_df['lon']\n",
    "    nodes_df['y'] = nodes_df['lat']\n",
    "    nodes_df = nodes_df.set_index('node_id')\n",
    "\n",
    "    ### demand processing\n",
    "    t_od_0 = time.time()\n",
    "    od_all = pd.read_csv(demand_file)\n",
    "    t_od_1 = time.time()\n",
    "    logging.info('{} sec to read {} OD pairs'.format(t_od_1-t_od_0, od_all.shape[0]))\n",
    "    \n",
    "    ### run residual_demand_assignment\n",
    "    assignment(edges_df=edges_df, nodes_df=nodes_df, od_all=od_all, simulation_outputs=simulation_outputs, scen_nm=scen_nm, hour_list=hour_list, quarter_list=quarter_list, closure_hours=closure_hours, closed_links=closed_links)\n",
    "\n",
    "    return True"
   ]
  },
  {
   "cell_type": "code",
   "execution_count": null,
   "id": "cbeca82b-7d23-409c-bbab-bc664574998f",
   "metadata": {},
   "outputs": [],
   "source": [
    "if __name__ == \"__main__\":\n",
    "    \n",
    "    status = main(hour_list=list(range(6, 9)), quarter_list=[0,1,2,3], closure_hours=[])"
   ]
  },
  {
   "cell_type": "markdown",
   "id": "b660e44d-6f29-4a62-927b-a9e1dcfa6a86",
   "metadata": {},
   "source": [
    "### Travel Time"
   ]
  },
  {
   "cell_type": "code",
   "execution_count": null,
   "id": "8f1810ab-bb93-4735-a751-8e9e6d169d14",
   "metadata": {},
   "outputs": [],
   "source": [
    "df = pd.read_csv('../projects/test/simulation_outputs/trip_info/trip_info_{}.csv'.format(scen_nm))"
   ]
  },
  {
   "cell_type": "code",
   "execution_count": null,
   "id": "67ccb86e",
   "metadata": {},
   "outputs": [],
   "source": []
  }
 ],
 "metadata": {
  "kernelspec": {
   "display_name": "Python 3 (ipykernel)",
   "language": "python",
   "name": "python3"
  },
  "language_info": {
   "codemirror_mode": {
    "name": "ipython",
    "version": 3
   },
   "file_extension": ".py",
   "mimetype": "text/x-python",
   "name": "python",
   "nbconvert_exporter": "python",
   "pygments_lexer": "ipython3",
   "version": "3.9.13"
  }
 },
 "nbformat": 4,
 "nbformat_minor": 5
}
